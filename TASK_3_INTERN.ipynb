{
 "cells": [
  {
   "cell_type": "code",
   "execution_count": null,
   "id": "2f76e624",
   "metadata": {},
   "outputs": [
    {
     "name": "stdout",
     "output_type": "stream",
     "text": [
      "Hello!\n",
      "None\n",
      "None\n"
     ]
    }
   ],
   "source": [
    "import nltk\n",
    "from nltk.chat.util import Chat, reflections\n",
    "\n",
    "pairs = [\n",
    "    [\"hi|hello|hey\", [\"Hello!\", \"Hi there!\"]],\n",
    "    [\"what is your name?\", [\"I'm a chatbot created by CodTech intern!\"]],\n",
    "    [\"how are you?\", [\"I'm doing well, thank you!\"]],\n",
    "    [\"quit\", [\"Goodbye!\", \"See you soon!\"]],\n",
    "]\n",
    "\n",
    "chatbot = Chat(pairs, reflections)\n",
    "chatbot.converse() "
   ]
  }
 ],
 "metadata": {
  "kernelspec": {
   "display_name": "Python 3",
   "language": "python",
   "name": "python3"
  },
  "language_info": {
   "codemirror_mode": {
    "name": "ipython",
    "version": 3
   },
   "file_extension": ".py",
   "mimetype": "text/x-python",
   "name": "python",
   "nbconvert_exporter": "python",
   "pygments_lexer": "ipython3",
   "version": "3.11.4"
  }
 },
 "nbformat": 4,
 "nbformat_minor": 5
}
