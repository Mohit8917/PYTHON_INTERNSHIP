{
 "cells": [
  {
   "cell_type": "code",
   "execution_count": 3,
   "id": "b3a469ff",
   "metadata": {},
   "outputs": [
    {
     "name": "stdout",
     "output_type": "stream",
     "text": [
      "PDF Report Generated: Student_Report.pdf\n"
     ]
    }
   ],
   "source": [
    "import pandas as pd\n",
    "from fpdf import FPDF\n",
    "\n",
    "# Load data\n",
    "df = pd.read_csv('sample.csv')\n",
    "df.columns = df.columns.str.strip() \n",
    "\n",
    "# Analysis\n",
    "average_score = df['Score'].mean()\n",
    "highest = df.loc[df['Score'].idxmax()]\n",
    "lowest = df.loc[df['Score'].idxmin()]\n",
    "\n",
    "# Create PDF\n",
    "pdf = FPDF()\n",
    "pdf.add_page()\n",
    "pdf.set_font(\"Arial\", size=12)\n",
    "\n",
    "# Title\n",
    "pdf.cell(200, 10, txt=\"Student Performance Report\", ln=True, align='C')\n",
    "pdf.ln(10)\n",
    "\n",
    "# Summary\n",
    "pdf.cell(200, 10, txt=f\"Average Score: {average_score:.2f}\", ln=True)\n",
    "pdf.cell(200, 10, txt=f\"Highest Score: {highest['Name']} ({highest['Score']})\", ln=True)\n",
    "pdf.cell(200, 10, txt=f\"Lowest Score: {lowest['Name']} ({lowest['Score']})\", ln=True)\n",
    "pdf.ln(10)\n",
    "\n",
    "# Detailed scores\n",
    "pdf.set_font(\"Arial\", 'B', size=12)\n",
    "pdf.cell(200, 10, txt=\"Detailed Scores:\", ln=True)\n",
    "pdf.set_font(\"Arial\", size=12)\n",
    "\n",
    "for _, row in df.iterrows():\n",
    "    pdf.cell(200, 10, txt=f\"{row['Name']}: {row['Score']}\", ln=True)\n",
    "\n",
    "# Save the PDF\n",
    "pdf.output(\"Student_Report.pdf\")\n",
    "print(\"PDF Report Generated: Student_Report.pdf\")\n",
    "\n"
   ]
  }
 ],
 "metadata": {
  "kernelspec": {
   "display_name": "Python 3",
   "language": "python",
   "name": "python3"
  },
  "language_info": {
   "codemirror_mode": {
    "name": "ipython",
    "version": 3
   },
   "file_extension": ".py",
   "mimetype": "text/x-python",
   "name": "python",
   "nbconvert_exporter": "python",
   "pygments_lexer": "ipython3",
   "version": "3.11.4"
  }
 },
 "nbformat": 4,
 "nbformat_minor": 5
}
